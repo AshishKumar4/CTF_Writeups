{
 "cells": [
  {
   "cell_type": "code",
   "execution_count": 1,
   "metadata": {},
   "outputs": [],
   "source": [
    "from Crypto.Cipher import DES\n",
    "import binascii\n",
    "\n",
    "IV = '13371337'\n",
    "\n",
    "\n",
    "def getNibbleLength(offset):\n",
    "    if str(offset)[0] == \"9\":\n",
    "        return len(str(offset))+1\n",
    "    return len(str(offset))\n",
    "\n",
    "\n",
    "def duck(aChr):\n",
    "    try:\n",
    "        return int(aChr)\n",
    "    except:\n",
    "        return \"abcdef\".index(aChr)+11\n",
    "\n",
    "\n",
    "def encodeText(plainText, offset):\n",
    "    hexEncoded = plainText.encode(\"hex\")\n",
    "    nibbleLen = getNibbleLength(offset)\n",
    "    output = \"\"\n",
    "    for i in range(0, len(hexEncoded), 2):\n",
    "        hexByte = hexEncoded[i:i+2]\n",
    "        try:\n",
    "            output += str(duck(hexByte[0]) + offset).rjust(nibbleLen, \"0\")\n",
    "            output += str(duck(hexByte[1]) + offset).rjust(nibbleLen, \"0\")\n",
    "        except:\n",
    "            continue\n",
    "    return output\n",
    "\n",
    "\n",
    "def padInput(input):\n",
    "    bS = len(input)/8\n",
    "    if len(input) % 8 != 0:\n",
    "        return input.ljust((bS+1)*8, \"_\")\n",
    "    return input\n",
    "\n",
    "\n",
    "def desEncrypt(input, key):\n",
    "    cipher = DES.new(key, DES.MODE_OFB, IV)\n",
    "    msg = cipher.encrypt(padInput(input))\n",
    "    return msg\n",
    "\n",
    "\n",
    "def createKey(hex, fileName):\n",
    "    with open(fileName, 'wb') as f:\n",
    "        f.write(binascii.unhexlify(hex))\n",
    "\n"
   ]
  },
  {
   "cell_type": "code",
   "execution_count": 2,
   "metadata": {},
   "outputs": [],
   "source": [
    "def createChallenge():\n",
    "\tcreateKey(\"011F011F010E010E\", \"key1\")\n",
    "\tcreateKey(\"1F011F010E010E01\", \"key2\")\n",
    "\tplainText = open('FLAG.txt').read()\n",
    "\tkey1 = open('key1').read()\n",
    "\tbyte = desEncrypt(plainText, key1)\n",
    "\tkey2 = open('key2').read()\n",
    "\tcipherText = desEncrypt(byte, key2)\n",
    "\tprint(cipherText)\n",
    "    # cipherText = encodeText(binascii.hexlify(cipherText),9133337)\n",
    "    # with open('FLAG.enc', 'w') as f:\n",
    "    #\tf.write(cipherText)\n"
   ]
  },
  {
   "cell_type": "code",
   "execution_count": null,
   "metadata": {},
   "outputs": [],
   "source": []
  }
 ],
 "metadata": {
  "kernelspec": {
   "display_name": "Python 3",
   "language": "python",
   "name": "python3"
  },
  "language_info": {
   "codemirror_mode": {
    "name": "ipython",
    "version": 3
   },
   "file_extension": ".py",
   "mimetype": "text/x-python",
   "name": "python",
   "nbconvert_exporter": "python",
   "pygments_lexer": "ipython3",
   "version": "3.7.4"
  }
 },
 "nbformat": 4,
 "nbformat_minor": 2
}
